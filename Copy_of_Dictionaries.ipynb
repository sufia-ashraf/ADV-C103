{
  "nbformat": 4,
  "nbformat_minor": 0,
  "metadata": {
    "colab": {
      "provenance": [],
      "authorship_tag": "ABX9TyMRNgm0+R2rti29SpyfYFyU",
      "include_colab_link": true
    },
    "kernelspec": {
      "name": "python3",
      "display_name": "Python 3"
    },
    "language_info": {
      "name": "python"
    }
  },
  "cells": [
    {
      "cell_type": "markdown",
      "metadata": {
        "id": "view-in-github",
        "colab_type": "text"
      },
      "source": [
        "<a href=\"https://colab.research.google.com/github/sufia-ashraf/ADV-C103/blob/main/Copy_of_Dictionaries.ipynb\" target=\"_parent\"><img src=\"https://colab.research.google.com/assets/colab-badge.svg\" alt=\"Open In Colab\"/></a>"
      ]
    },
    {
      "cell_type": "markdown",
      "source": [
        "DICTIONARIES"
      ],
      "metadata": {
        "id": "6UaNLiWe7WQy"
      }
    },
    {
      "cell_type": "code",
      "source": [
        "#Consider the following dictionary stateCapital:\n",
        "stateCapital = {'AndhraPradesh':'Hyderabad', 'Bihar':'Patna', 'Maharashtra':'Mumbai','Rajasthan':'Jaipur'}\n",
        "print(stateCapital.get('Bihar'))\n",
        "print(stateCapital.keys())\n",
        "print(stateCapital.values())\n",
        "print(stateCapital.items())\n",
        "print(len(stateCapital))\n",
        "print('Maharashtra' in stateCapital)\n",
        "print(stateCapital.get('Assam'))\n",
        "del stateCapital['Rajasthan']\n",
        "print(stateCapital)"
      ],
      "metadata": {
        "colab": {
          "base_uri": "https://localhost:8080/"
        },
        "id": "L8dOeNkx7YGA",
        "outputId": "e259be61-0f77-4b5f-c567-caabbbcfe5b8"
      },
      "execution_count": null,
      "outputs": [
        {
          "output_type": "stream",
          "name": "stdout",
          "text": [
            "Patna\n",
            "dict_keys(['AndhraPradesh', 'Bihar', 'Maharashtra', 'Rajasthan'])\n",
            "dict_values(['Hyderabad', 'Patna', 'Mumbai', 'Jaipur'])\n",
            "dict_items([('AndhraPradesh', 'Hyderabad'), ('Bihar', 'Patna'), ('Maharashtra', 'Mumbai'), ('Rajasthan', 'Jaipur')])\n",
            "4\n",
            "True\n",
            "None\n",
            "{'AndhraPradesh': 'Hyderabad', 'Bihar': 'Patna', 'Maharashtra': 'Mumbai'}\n"
          ]
        }
      ]
    },
    {
      "cell_type": "code",
      "source": [
        "#101.program to create a phone dictionary for the students,print their Index values.\n",
        "ph = ['Dave', 'lily', 'Dora', 'Arsh']\n",
        "print(\"The original list : \" + str(ph))\n",
        "res = dict()\n",
        "for i in ph:\n",
        "    res[i] = ph.index(i)+1\n",
        "print(\"The Dictionary after index keys : \" + str(res))\n"
      ],
      "metadata": {
        "colab": {
          "base_uri": "https://localhost:8080/"
        },
        "id": "W8oKWrxZ-1GL",
        "outputId": "c5fed879-e069-4498-9e4e-c0ec566c53d5"
      },
      "execution_count": null,
      "outputs": [
        {
          "output_type": "stream",
          "name": "stdout",
          "text": [
            "The original list : ['Dave', 'lily', 'Dora', 'Arsh']\n",
            "The Dictionary after index keys : {'Dave': 1, 'lily': 2, 'Dora': 3, 'Arsh': 4}\n"
          ]
        }
      ]
    },
    {
      "cell_type": "code",
      "source": [
        "#102.program to find the highest 2 values in a dictionary.\n",
        "dic = {\"A\":12,\"B\":13,\"C\":9,\"D\":89}\n",
        "lst = list()\n",
        "for a in dic.values():\n",
        "   lst.append(a)\n",
        "lst.sort()\n",
        "print(\"Highest value:\",lst[-1])\n",
        "print(\"Second highest value:\",lst[-2])"
      ],
      "metadata": {
        "colab": {
          "base_uri": "https://localhost:8080/"
        },
        "id": "IAgDmDoz_9Et",
        "outputId": "9a6beecb-d6e0-4ee4-f4ee-da2c9d076676"
      },
      "execution_count": null,
      "outputs": [
        {
          "output_type": "stream",
          "name": "stdout",
          "text": [
            "Highest value: 89\n",
            "Second highest value: 13\n"
          ]
        }
      ]
    },
    {
      "cell_type": "code",
      "source": [
        "#103. Write a Python program to create a dictionary from a string.\n",
        "from collections import defaultdict, Counter\n",
        "str1 = 'w3resource' \n",
        "dict1 = {}\n",
        "for letter in str1:\n",
        "    dict1[letter] = dict1.get(letter, 0) + 1\n",
        "print(dict1)"
      ],
      "metadata": {
        "colab": {
          "base_uri": "https://localhost:8080/"
        },
        "id": "eb3Zy1ZzAi2y",
        "outputId": "0ed3d06b-9d21-40dc-c07e-c69f9fc6f4b4"
      },
      "execution_count": null,
      "outputs": [
        {
          "output_type": "stream",
          "name": "stdout",
          "text": [
            "{'w': 1, '3': 1, 'r': 2, 'e': 2, 's': 1, 'o': 1, 'u': 1, 'c': 1}\n"
          ]
        }
      ]
    },
    {
      "cell_type": "code",
      "source": [
        "#104.script to concatenate following dictionaries\n",
        "dic1={1:10, 2:20}\n",
        "dic2={3:30, 4:40}\n",
        "dic3={5:50,6:60}\n",
        "dic4 = {}\n",
        "for d in (dic1, dic2, dic3): dic4.update(d)\n",
        "print(dic4)"
      ],
      "metadata": {
        "colab": {
          "base_uri": "https://localhost:8080/"
        },
        "id": "JuLqjmFSBF3i",
        "outputId": "ad8dff7f-31e5-4deb-c8f2-30e15475a640"
      },
      "execution_count": null,
      "outputs": [
        {
          "output_type": "stream",
          "name": "stdout",
          "text": [
            "{1: 10, 2: 20, 3: 30, 4: 40, 5: 50, 6: 60}\n"
          ]
        }
      ]
    },
    {
      "cell_type": "code",
      "source": [
        "#106. Write a Python script to check whether a given key already exists in a dictionary.\n",
        "d = {1: 10, 2: 20, 3: 30, 4: 40, 5: 50, 6: 60}\n",
        "def is_key_present(x):\n",
        "  if x in d:\n",
        "      print('Key is present in the dictionary')\n",
        "  else:\n",
        "      print('Key is not present in the dictionary')\n",
        "is_key_present(5)\n",
        "is_key_present(9)\n"
      ],
      "metadata": {
        "colab": {
          "base_uri": "https://localhost:8080/"
        },
        "id": "vdV0Yb2yBr3F",
        "outputId": "d274fc35-4d0b-4b47-966d-4db081e8d1f9"
      },
      "execution_count": null,
      "outputs": [
        {
          "output_type": "stream",
          "name": "stdout",
          "text": [
            "Key is present in the dictionary\n",
            "Key is not present in the dictionary\n"
          ]
        }
      ]
    },
    {
      "cell_type": "code",
      "source": [
        "#107.program to input your friends’ names and their Phone Numbers and store them in the dictionary\n",
        "n = int(input(\"Enter how many names you want to enter: \"))\n",
        "names={}\n",
        "for i in range(n):\n",
        "    name=input(\"Enter name of friend: \")\n",
        "    number=input(\"Enter phone number: \")\n",
        "    names[name]=number \n",
        "print(names)\n",
        "names[\"Aaryn\"]=\"9877666234\" \n",
        "del names[\"Aaryn\"] \n",
        "print(\"Modified dictionary \",names) \n",
        "for name in names: \n",
        "    names[name] = \"9456356344\"\n",
        "    break\n",
        "print(\"Aria\" in names)\n",
        "print(\"dictionary in sorted order\")\n",
        "for i in sorted (names) : \n",
        "    print((i, names[i]), end =\" \")"
      ],
      "metadata": {
        "colab": {
          "base_uri": "https://localhost:8080/"
        },
        "id": "n-FAL8xdCIyM",
        "outputId": "53a47766-1314-42dc-e840-565ce5ea3c9b"
      },
      "execution_count": null,
      "outputs": [
        {
          "output_type": "stream",
          "name": "stdout",
          "text": [
            "Enter how many names you want to enter: 1\n",
            "Enter name of friend: Maria\n",
            "Enter phone number: 2356879905\n",
            "{'Maria': '2356879905'}\n",
            "Modified dictionary  {'Maria': '2356879905'}\n",
            "False\n",
            "dictionary in sorted order\n",
            "('Maria', '9456356344') "
          ]
        }
      ]
    },
    {
      "cell_type": "code",
      "source": [
        "#108. Create a nested dictionary that stores the marks details along with student names \n",
        "n = int(input(\"Enter number of students :\"))\n",
        "for i in range(n):\n",
        "        sname = input(\"Enter names of student :\")\n",
        "        marks= []\n",
        "        for j in range(5):\n",
        "           mark = float(input(\"Enter marks :\"))\n",
        "           marks.append(mark)\n",
        "           sname= marks\n",
        "print(\"Dictionary of student created :\")\n",
        "print(sname)"
      ],
      "metadata": {
        "colab": {
          "base_uri": "https://localhost:8080/"
        },
        "id": "cEadArFIDkz8",
        "outputId": "1a1bf1f5-7fad-4904-d2ea-1fc52b8cb70d"
      },
      "execution_count": null,
      "outputs": [
        {
          "output_type": "stream",
          "name": "stdout",
          "text": [
            "Enter number of students :1\n",
            "Enter names of student :marie\n",
            "Enter marks :5\n",
            "Enter marks :10\n",
            "Enter marks :9\n",
            "Enter marks :6\n",
            "Enter marks :9\n",
            "Dictionary of student created :\n",
            "[5.0, 10.0, 9.0, 6.0, 9.0]\n"
          ]
        }
      ]
    }
  ]
}