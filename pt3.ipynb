{
  "nbformat": 4,
  "nbformat_minor": 0,
  "metadata": {
    "colab": {
      "provenance": [],
      "authorship_tag": "ABX9TyNfH/nPlD+b02dffepGmGZn",
      "include_colab_link": true
    },
    "kernelspec": {
      "name": "python3",
      "display_name": "Python 3"
    },
    "language_info": {
      "name": "python"
    }
  },
  "cells": [
    {
      "cell_type": "markdown",
      "metadata": {
        "id": "view-in-github",
        "colab_type": "text"
      },
      "source": [
        "<a href=\"https://colab.research.google.com/github/sufia-ashraf/ADV-C103/blob/main/pt3.ipynb\" target=\"_parent\"><img src=\"https://colab.research.google.com/assets/colab-badge.svg\" alt=\"Open In Colab\"/></a>"
      ]
    },
    {
      "cell_type": "code",
      "execution_count": null,
      "metadata": {
        "id": "vVh8HEIC1bW_"
      },
      "outputs": [],
      "source": []
    },
    {
      "cell_type": "markdown",
      "source": [
        " **LIST**\n",
        "\n"
      ],
      "metadata": {
        "id": "0wjlGT301e5I"
      }
    },
    {
      "cell_type": "code",
      "source": [
        "#64program to find the number of times an element occurs in the list.\n",
        "l1=['2','2','7','2','7','7','2']\n",
        "print(l1.count('7'))"
      ],
      "metadata": {
        "colab": {
          "base_uri": "https://localhost:8080/"
        },
        "id": "2e0x-C-d1paQ",
        "outputId": "ea3727b4-d8a9-416c-d2a1-a1d8b3aa7da3"
      },
      "execution_count": null,
      "outputs": [
        {
          "output_type": "stream",
          "name": "stdout",
          "text": [
            "3\n"
          ]
        }
      ]
    },
    {
      "cell_type": "code",
      "source": [
        "#65program to read a list of n integers \n",
        "val=eval(input(\"enter list:\"))\n",
        "plist=[]\n",
        "nlist=[]\n",
        "s=len(val)\n",
        "for i in range(s):\n",
        "  if val[i]<0:\n",
        "    nlist.append(val[i])\n",
        "  elif val[i]>0:\n",
        "    plist.append(val[i])\n",
        "print(\"positive list:\",plist)\n",
        "print(\"negative list:\",nlist)\n"
      ],
      "metadata": {
        "colab": {
          "base_uri": "https://localhost:8080/"
        },
        "id": "2iP2ZNiZ2LPv",
        "outputId": "9def791d-f916-458e-f9a6-0167e7d6f848"
      },
      "execution_count": null,
      "outputs": [
        {
          "output_type": "stream",
          "name": "stdout",
          "text": [
            "enter list:2,3,4,5,6\n",
            "positive list: [2, 3, 4, 5, 6]\n",
            "negative list: []\n"
          ]
        }
      ]
    },
    {
      "cell_type": "code",
      "source": [
        "#66function that returns the largest element of the list passed as parameter\n",
        "l1=['6','2','0']\n",
        "mx=max(l1)\n",
        "print(mx)"
      ],
      "metadata": {
        "colab": {
          "base_uri": "https://localhost:8080/"
        },
        "id": "HYC-mbaA3YpB",
        "outputId": "b2e80e88-d87a-4fa2-c52b-e56909dfeae5"
      },
      "execution_count": null,
      "outputs": [
        {
          "output_type": "stream",
          "name": "stdout",
          "text": [
            "6\n"
          ]
        }
      ]
    },
    {
      "cell_type": "code",
      "source": [
        "#67a function to return the second largest number from a list of numbers."
      ],
      "metadata": {
        "id": "qj25gub44NEf"
      },
      "execution_count": null,
      "outputs": []
    },
    {
      "cell_type": "code",
      "source": [
        "from IPython.core.magics.script import List\n",
        "list= eval(input(\"enter list:\"))\n",
        "length=len(list)\n",
        "biggest=secondbiggest=list[0]\n",
        "for i in range(1,length):\n",
        "  if list[i]>biggest:\n",
        "    secondbiggest=biggest\n",
        "    biggest=list[i]\n",
        "  elif list[i]>secondbiggest:\n",
        "      secondbiggest=list[i]\n",
        "print(\"largest no. of list:\",biggest)\n",
        "print(\"second largest no.\", secondbiggest)\n",
        "\n"
      ],
      "metadata": {
        "colab": {
          "base_uri": "https://localhost:8080/"
        },
        "id": "D8EdWIYN3QXw",
        "outputId": "ee3751c7-22c3-4a4d-83e6-a743e0e55eea"
      },
      "execution_count": null,
      "outputs": [
        {
          "output_type": "stream",
          "name": "stdout",
          "text": [
            "enter list:2,4,6,\n",
            "largest no. of list: 6\n",
            "second largest no. 4\n"
          ]
        }
      ]
    },
    {
      "cell_type": "code",
      "source": [
        "#68program to read a list of n integers and find their median\n",
        "import statistics as st\n",
        "val=eval(input(\"enter list:\"))\n",
        "med=st.median(val)\n",
        "print(\"median of given list:\",med)"
      ],
      "metadata": {
        "colab": {
          "base_uri": "https://localhost:8080/"
        },
        "id": "lXYmqf2S5oQ_",
        "outputId": "7467dee9-6c05-415c-ee9e-cd0eeff69454"
      },
      "execution_count": null,
      "outputs": [
        {
          "output_type": "stream",
          "name": "stdout",
          "text": [
            "enter list:2,3,\n",
            "median of given list: 2.5\n"
          ]
        }
      ]
    },
    {
      "cell_type": "code",
      "source": [
        "#69i)program to read a list of elements Modify so it doesn't contain any duplicates\n",
        "duplicate = [2, 4, 10, 20, 5, 2, 20, 4]\n",
        "print(Remove(duplicate))"
      ],
      "metadata": {
        "colab": {
          "base_uri": "https://localhost:8080/"
        },
        "id": "3Vt6561SGtiu",
        "outputId": "45b16937-d4c0-47c3-a863-ebd15ffaab11"
      },
      "execution_count": null,
      "outputs": [
        {
          "output_type": "stream",
          "name": "stdout",
          "text": [
            "[2, 4, 10, 20, 5]\n"
          ]
        }
      ]
    },
    {
      "cell_type": "code",
      "source": [
        "#70i)program should ask for the position of the element to be deleted from the list.\n",
        "val=[1,2,3,4]\n",
        "print(\"the list is:\",val)\n",
        "print('main menue')\n",
        "print('1.delete')\n",
        "ch=int(input(\"enter choice:\"))\n",
        "if ch==1:\n",
        "  print(\"deletion menu\")\n",
        "  print(\"1.deletion using value\")\n",
        "dch=int(input(\"enter choice(1):\"))\n",
        "if dch==1:\n",
        "  item=int(input(\"enter item to be deleted\"))\n",
        "  val.remove(item)\n",
        "  print(\"list now:\",val)"
      ],
      "metadata": {
        "colab": {
          "base_uri": "https://localhost:8080/"
        },
        "id": "_JZkY0-CHWsg",
        "outputId": "312bd22a-1ca3-45a7-eb8f-8d8c24668f0b"
      },
      "execution_count": null,
      "outputs": [
        {
          "output_type": "stream",
          "name": "stdout",
          "text": [
            "the list is: [1, 2, 3, 4]\n",
            "main menue\n",
            "1.delete\n",
            "enter choice:1\n",
            "deletion menu\n",
            "1.deletion using value\n",
            "enter choice(1):1\n",
            "enter item to be deleted2\n",
            "list now: [1, 3, 4]\n"
          ]
        }
      ]
    },
    {
      "cell_type": "code",
      "source": [
        "#70i)program should ask for the value of the element to be deleted from the list.\n",
        "val=[1,2,3,4]\n",
        "print(\"the list is:\",val)\n",
        "print('main menue')\n",
        "print('1.delete')\n",
        "ch=int(input(\"enter choice:\"))\n",
        "if ch==1:\n",
        "  print(\"deletion menu\")\n",
        "  print(\"1.deletion using value\")\n",
        "dch=int(input(\"enter choice(1):\"))\n",
        "if dch==1:\n",
        "  item=int(input(\"enter index to be deleted\"))\n",
        "  val.pop(item)\n",
        "  print(\"list now:\",val)"
      ],
      "metadata": {
        "colab": {
          "base_uri": "https://localhost:8080/"
        },
        "id": "Ooy6s6faJ7Q8",
        "outputId": "ccab6e3e-01ea-4139-f688-98bacbf23c22"
      },
      "execution_count": null,
      "outputs": [
        {
          "output_type": "stream",
          "name": "stdout",
          "text": [
            "the list is: [1, 2, 3, 4]\n",
            "main menue\n",
            "1.delete\n",
            "enter choice:1\n",
            "deletion menu\n",
            "1.deletion using value\n",
            "enter choice(1):1\n",
            "enter index to be deleted2\n",
            "list now: [1, 2, 4]\n"
          ]
        }
      ]
    },
    {
      "cell_type": "code",
      "source": [
        "#71program that returns the largest even number in the list of integers.\n",
        "list1=eval(input(\"enter list:\"))\n",
        "newlist=[]\n",
        "for i in list1:\n",
        "  if i%2==0:\n",
        "    newlist+=[i]\n",
        "if newlist ==[]:\n",
        "  print(\"no even no.\")\n",
        "else:\n",
        "  newlist.sort()\n",
        "  print(\"largest even no. in the list of integers:\", newlist[-1])"
      ],
      "metadata": {
        "colab": {
          "base_uri": "https://localhost:8080/"
        },
        "id": "QQQmD6P_KbMl",
        "outputId": "8eadc25e-29b5-4f0b-eb2d-f56a9b362a06"
      },
      "execution_count": null,
      "outputs": [
        {
          "output_type": "stream",
          "name": "stdout",
          "text": [
            "enter list:2,3,4\n",
            "largest even no. in the list of integers: 4\n"
          ]
        }
      ]
    },
    {
      "cell_type": "code",
      "source": [
        "#72.program that prints the sum of even index elements of L, minus the sum of odd, index elements of L.\n",
        "L= eval(input(\"enter list:\"))\n",
        "even=odd=0\n",
        "for i in range(len(L)):\n",
        "  if i%2==0:\n",
        "    even +=L[i]\n",
        "  else:\n",
        "    odd +=L[i]\n",
        "print(\"(sum of even index elements)-sum of odd index elements)\",even-odd)"
      ],
      "metadata": {
        "colab": {
          "base_uri": "https://localhost:8080/"
        },
        "id": "t_vegJisOPOz",
        "outputId": "c28fd017-e0cc-416b-e43e-9d120994cb63"
      },
      "execution_count": null,
      "outputs": [
        {
          "output_type": "stream",
          "name": "stdout",
          "text": [
            "enter list:2,3,4,5\n",
            "(sum of even index elements)-sum of odd index elements) -2\n"
          ]
        }
      ]
    },
    {
      "cell_type": "code",
      "source": [
        "#73program to find the mode, from a given list.\n",
        "import statistics\n",
        "lst=[600,300,500,200,300,300]\n",
        "print(\"Mode of given list is % s:\"% (statistics.mode(lst)))"
      ],
      "metadata": {
        "colab": {
          "base_uri": "https://localhost:8080/"
        },
        "id": "qs8QHVZpPWG1",
        "outputId": "7dd1e920-c42c-4e50-c5ea-61878f214492"
      },
      "execution_count": null,
      "outputs": [
        {
          "output_type": "stream",
          "name": "stdout",
          "text": [
            "Mode of given list is 300:\n"
          ]
        }
      ]
    },
    {
      "cell_type": "code",
      "source": [
        "#74program to find the median from a given list.\n",
        "import statistics\n",
        "lst = [4, 5, 8, 9, 10, 17]\n",
        "print(\"The original list : \",str(lst))\n",
        "\n",
        "x = statistics.median(lst)\n",
        "print(\"Median of list is : \",str(x))\n"
      ],
      "metadata": {
        "colab": {
          "base_uri": "https://localhost:8080/"
        },
        "id": "Swpjkq_XS6aV",
        "outputId": "1c94ab65-1a7b-4fa4-a95c-c1d96bddf40c"
      },
      "execution_count": null,
      "outputs": [
        {
          "output_type": "stream",
          "name": "stdout",
          "text": [
            "The original list :  [4, 5, 8, 9, 10, 17]\n",
            "Median of list is :  8.5\n"
          ]
        }
      ]
    },
    {
      "cell_type": "code",
      "source": [
        "#75program that inputs a list of numbers and shifts all the zero to right all non-zero numbers to left of list.\n",
        "lst = [5, 6, 0, 4, 6, 0, 9, 0, 8]\n",
        "nonZeroValues = [x for x in lst if x != 0]\n",
        "zeroes = [j for j in lst if j == 0]\n",
        "lst = nonZeroValues + zeroes\n",
        "print( \"List after shifting zeros to left side:\" ,lst)"
      ],
      "metadata": {
        "colab": {
          "base_uri": "https://localhost:8080/"
        },
        "id": "ECULG6EWUMsG",
        "outputId": "0414694c-a928-48d3-bd31-9c2867e64069"
      },
      "execution_count": null,
      "outputs": [
        {
          "output_type": "stream",
          "name": "stdout",
          "text": [
            "List after shifting zeros to left side: [5, 6, 4, 6, 9, 8, 0, 0, 0]\n"
          ]
        }
      ]
    }
  ]
}