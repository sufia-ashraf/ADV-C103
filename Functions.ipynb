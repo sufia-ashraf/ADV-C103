{
  "nbformat": 4,
  "nbformat_minor": 0,
  "metadata": {
    "colab": {
      "provenance": [],
      "authorship_tag": "ABX9TyNJcsXv9CEhDkeF5bMU8bL1",
      "include_colab_link": true
    },
    "kernelspec": {
      "name": "python3",
      "display_name": "Python 3"
    },
    "language_info": {
      "name": "python"
    }
  },
  "cells": [
    {
      "cell_type": "markdown",
      "metadata": {
        "id": "view-in-github",
        "colab_type": "text"
      },
      "source": [
        "<a href=\"https://colab.research.google.com/github/sufia-ashraf/ADV-C103/blob/main/Functions.ipynb\" target=\"_parent\"><img src=\"https://colab.research.google.com/assets/colab-badge.svg\" alt=\"Open In Colab\"/></a>"
      ]
    },
    {
      "cell_type": "markdown",
      "source": [
        "Functions"
      ],
      "metadata": {
        "id": "c9h-c5tMEm6j"
      }
    },
    {
      "cell_type": "code",
      "execution_count": 24,
      "metadata": {
        "id": "BaiFM4DnKY7W",
        "colab": {
          "base_uri": "https://localhost:8080/"
        },
        "outputId": "f593ae91-1004-4527-fbd0-97f5fafafac9"
      },
      "outputs": [
        {
          "output_type": "stream",
          "name": "stdout",
          "text": [
            "Enter first number: 4\n",
            "Enter second number: 5\n",
            "The sum of  4 and  5 is  9\n"
          ]
        }
      ],
      "source": [
        "#user defined function to add 2 numbers and display their sum.\n",
        "def addnum():\n",
        " fnum = int(input(\"Enter first number: \"))\n",
        " snum = int(input(\"Enter second number: \"))\n",
        " sum = fnum + snum\n",
        " print(\"The sum of \",fnum,\"and \",snum,\"is \",sum)\n",
        "addnum()\n",
        "  "
      ]
    },
    {
      "cell_type": "code",
      "source": [
        "#program using a user defined function that displays sum of first n natural numbers, where n is passed as an argument.\n",
        "n=int(input(\"Enter a number: \"))\n",
        "sum1 = 0\n",
        "while(n > 0):\n",
        "    sum1=sum1+n\n",
        "    n=n-1\n",
        "print(\"The sum of first n natural numbers is\",sum1)"
      ],
      "metadata": {
        "colab": {
          "base_uri": "https://localhost:8080/"
        },
        "id": "Dru8eviCbhDZ",
        "outputId": "0ae8b3df-c038-4b10-99ab-7ccd02893b07"
      },
      "execution_count": 23,
      "outputs": [
        {
          "output_type": "stream",
          "name": "stdout",
          "text": [
            "Enter a number: 4\n",
            "The sum of first n natural numbers is 10\n"
          ]
        }
      ]
    },
    {
      "cell_type": "code",
      "source": [
        "#program using user defined function that accepts an integer and increments the value by 5. Also display the id of argument \n",
        "def incrValue(num):\n",
        " print(\"Parameter num has value:\",num,\"\\nid =\",id(num))\n",
        " num = num + 5\n",
        " print(\"num incremented by 5 is\",num,\"\\nNow id is \",id(num))\n",
        "number = int(input(\"Enter a number: \"))\n",
        "print(\"id of argument number is:\",id(number)) \n",
        "incrValue(number)"
      ],
      "metadata": {
        "colab": {
          "base_uri": "https://localhost:8080/"
        },
        "id": "C8PCjintjVfj",
        "outputId": "028b23e5-b11b-4d14-a5e2-efe8d8ea375f"
      },
      "execution_count": 25,
      "outputs": [
        {
          "output_type": "stream",
          "name": "stdout",
          "text": [
            "Enter a number: 5\n",
            "id of argument number is: 9793216\n",
            "Parameter num has value: 5 \n",
            "id = 9793216\n",
            "num incremented by 5 is 10 \n",
            "Now id is  9793376\n"
          ]
        }
      ]
    },
    {
      "cell_type": "code",
      "source": [
        "#79.program using a user defined function myMean() to calculate the mean of floating values stored in a list.\n",
        "def myMean(myList): \n",
        " total = 0\n",
        " count = 0\n",
        " for i in myList:\n",
        "    total = total + i \n",
        "    count = count + 1 \n",
        "    mean = total/count \n",
        " print(\"The calculated mean is:\",mean)\n",
        "myList = [1.3,1.4,1.6,1.9]\n",
        "myMean(myList)"
      ],
      "metadata": {
        "colab": {
          "base_uri": "https://localhost:8080/"
        },
        "id": "7AzjCl6skB7-",
        "outputId": "36c08bc0-94aa-4e68-f264-1e0c530336b3"
      },
      "execution_count": 35,
      "outputs": [
        {
          "output_type": "stream",
          "name": "stdout",
          "text": [
            "The calculated mean is: 1.5500000000000003\n"
          ]
        }
      ]
    },
    {
      "cell_type": "code",
      "source": [
        "#80.program using a user defined function calcFact() to calculate anddisplay the factorial of a number passed as an argument.\n",
        "def calcFact(num):\n",
        " fact = 1\n",
        " for i in range(num,0,-1):\n",
        "     fact = fact * i\n",
        " print(\"Factorial of\",num,\"is\",fact) \n",
        "num = int(input(\"Enter the number: \"))\n",
        "calcFact(num)"
      ],
      "metadata": {
        "colab": {
          "base_uri": "https://localhost:8080/"
        },
        "id": "3GC4wuQ-ky2F",
        "outputId": "b336f2a2-5002-4f06-f013-247213fa7bae"
      },
      "execution_count": 37,
      "outputs": [
        {
          "output_type": "stream",
          "name": "stdout",
          "text": [
            "Enter the number: 4\n",
            "Factorial of 4 is 24\n"
          ]
        }
      ]
    },
    {
      "cell_type": "code",
      "source": [
        "#81.program using a user defined function that accepts the first name lastname as arguments..\n",
        "def fullname(first,last):\n",
        " fullname = first + \" \" + last\n",
        " print(\"Hello\",fullname)\n",
        "first = input(\"Enter first name: \")\n",
        "last = input(\"Enter last name: \")\n",
        "fullname(first,last) \n"
      ],
      "metadata": {
        "colab": {
          "base_uri": "https://localhost:8080/"
        },
        "id": "TYUpp7tblREh",
        "outputId": "5a0f82af-b08e-49e0-8f0a-387579140ec2"
      },
      "execution_count": 39,
      "outputs": [
        {
          "output_type": "stream",
          "name": "stdout",
          "text": [
            "Enter first name: Mariaa\n",
            "Enter last name: Perwin\n",
            "Hello Mariaa Perwin\n"
          ]
        }
      ]
    },
    {
      "cell_type": "code",
      "source": [
        "#82.program to accept 2 numbers as base and exponent and display the numeric output.\n",
        "base = 6\n",
        "exponent = 4\n",
        "result = pow(base, exponent)\n",
        "print(\"Answer = \" + str(result))"
      ],
      "metadata": {
        "colab": {
          "base_uri": "https://localhost:8080/"
        },
        "id": "w3kuaIXEl7HS",
        "outputId": "2056ca96-f37f-42f7-a6bc-2fbac6c3f931"
      },
      "execution_count": 40,
      "outputs": [
        {
          "output_type": "stream",
          "name": "stdout",
          "text": [
            "Answer = 1296\n"
          ]
        }
      ]
    },
    {
      "cell_type": "code",
      "source": [
        "#83.program using user defined function that accepts length and breadth of a rectangle..\n",
        "def calcAreaPeri(Length,Breadth):\n",
        " area = Length * Breadth\n",
        " perimeter = 2 * (Length + Breadth)\n",
        " return (area,perimeter)\n",
        "l = float(input(\"Enter length of the rectangle: \"))\n",
        "b = float(input(\"Enter breadth of the rectangle: \"))\n",
        "area,perimeter = calcAreaPeri(l,b)\n",
        "print(\"Area is:\",area,\"\\nPerimeter is:\",perimeter)"
      ],
      "metadata": {
        "colab": {
          "base_uri": "https://localhost:8080/"
        },
        "id": "pFuyyPq5naLb",
        "outputId": "4d8a8411-0d23-4241-d58f-7d8071fc4164"
      },
      "execution_count": 43,
      "outputs": [
        {
          "output_type": "stream",
          "name": "stdout",
          "text": [
            "Enter length of the rectangle: 4\n",
            "Enter breadth of the rectangle: 6\n",
            "Area is: 24.0 \n",
            "Perimeter is: 20.0\n"
          ]
        }
      ]
    },
    {
      "cell_type": "code",
      "source": [
        "#84.program to check the divisibility of a number by 7 that is passed as a parameter to the user defined function.\n",
        "def checkDivisibility(n):\n",
        "   if n % 7 == 0:\n",
        "     print(n, \"is divisible by 7\")\n",
        "   else:\n",
        "     print(n, \"is not divisible by 7\")\n",
        "n = int(input(\"Enter a number to check if it is divisible by 7 : \"))\n",
        "checkDivisibility(n)"
      ],
      "metadata": {
        "colab": {
          "base_uri": "https://localhost:8080/"
        },
        "id": "VwK6WWuvoUQ0",
        "outputId": "7d91bb30-0e63-4332-8f07-090d2e565800"
      },
      "execution_count": 51,
      "outputs": [
        {
          "output_type": "stream",
          "name": "stdout",
          "text": [
            "Enter a number to check if it is divisible by 7 : 7\n",
            "7 is divisible by 7\n"
          ]
        }
      ]
    },
    {
      "cell_type": "code",
      "source": [
        "#85.program that uses a user defined function that accepts name and gendeR, prefixes Mr/Ms \n",
        "def prefix(name,gender):\n",
        "    if (gender == 'M' or gender == 'm'):\n",
        "        print(\"Hello, Mr.\",name)\n",
        "    elif (gender == 'F' or gender == 'f'):\n",
        "         print(\"Hello, Ms.\",name)\n",
        "    else:\n",
        "         print(\"Please enter only M or F in gender\")\n",
        "name = input(\"Enter your name: \")\n",
        "gender = input(\"Enter your gender: M for Male, and F for Female: \")\n",
        "prefix(name,gender)"
      ],
      "metadata": {
        "colab": {
          "base_uri": "https://localhost:8080/"
        },
        "id": "9DYVkW7Rp_Wy",
        "outputId": "653829b6-9958-43a9-e66e-db47857dd3cd"
      },
      "execution_count": 59,
      "outputs": [
        {
          "output_type": "stream",
          "name": "stdout",
          "text": [
            "Enter your name: Marie\n",
            "Enter your gender: M for Male, and F for Female: F\n",
            "Hello, Ms. Marie\n"
          ]
        }
      ]
    },
    {
      "cell_type": "code",
      "source": [
        "#86. Write a program that has a user defined function to accept the coefficients of a quadratic eq.\n",
        "import cmath\n",
        "a = 1\n",
        "b = 5\n",
        "c = 6\n",
        "d = (b**2) - (4*a*c)\n",
        "sol1 = (-b-cmath.sqrt(d))/(2*a)\n",
        "sol2 = (-b+cmath.sqrt(d))/(2*a)\n",
        "print('The solution are {0} and {1}'.format(sol1,sol2))"
      ],
      "metadata": {
        "colab": {
          "base_uri": "https://localhost:8080/"
        },
        "id": "BXyOU0HorMtD",
        "outputId": "ff7fae1d-db42-4033-9867-4dd6ab3bd052"
      },
      "execution_count": 60,
      "outputs": [
        {
          "output_type": "stream",
          "name": "stdout",
          "text": [
            "The solution are (-3+0j) and (-2+0j)\n"
          ]
        }
      ]
    },
    {
      "cell_type": "code",
      "source": [
        "#87. ABC School has allotted unique token IDs from (1 to 600) to all the parents for facilitating a lucky draw \n",
        "from random import randint\n",
        "def generateRandom():\n",
        "    print(\"The winner of the lucky draw is the parent with token id: \",randint(1, 600))\n",
        "print(\"\")\n",
        "generateRandom()"
      ],
      "metadata": {
        "colab": {
          "base_uri": "https://localhost:8080/"
        },
        "id": "OhexQsh4sVik",
        "outputId": "8e4e0710-cd86-4cef-e08f-ed6e81b7bbe5"
      },
      "execution_count": 61,
      "outputs": [
        {
          "output_type": "stream",
          "name": "stdout",
          "text": [
            "\n",
            "The winner of the lucky draw is the parent with token id:  272\n"
          ]
        }
      ]
    },
    {
      "cell_type": "code",
      "source": [
        "def calculate (p, r, t, n=1) :\n",
        "     amount = p * (1 + r/(n * 100))**(n * t)\n",
        "     ci = round(amount - p, 2)\n",
        "     print( \"The compound interest will be  \" , ci)\n",
        "p = float(input( \"Enter the principal amount : \" ) )\n",
        "r = float(input( \"Enter the rate of interest : \" ) )\n",
        "t = float(input( \"Enter total time : \" ) )\n",
        "n = int(input( \"Number of times the interest is compounded in a year\\n(e.g. Enter 1 for yearly, 2 for half-yearly) : \" ) )\n",
        "if(n > 365) :\n",
        "     calculate (p, r, t ,n)\n",
        "else :\n",
        "     print(\"Maximum number of times an interest is compounded can not be more than 365\")\n"
      ],
      "metadata": {
        "colab": {
          "base_uri": "https://localhost:8080/"
        },
        "id": "A6q52CVlvg7V",
        "outputId": "b5b08173-141b-4470-dbc1-263453183d3f"
      },
      "execution_count": 63,
      "outputs": [
        {
          "output_type": "stream",
          "name": "stdout",
          "text": [
            "Enter the principal amount : 52\n",
            "Enter the rate of interest : 25\n",
            "Enter total time : 12\n",
            "Number of times the interest is compounded in a year\n",
            "(e.g. Enter 1 for yearly, 2 for half-yearly) : 242\n",
            "Maximum number of times an interest is compounded can not be more than 365\n"
          ]
        }
      ]
    },
    {
      "cell_type": "code",
      "source": [
        "#89.program that has a user defined function to accept 2 numbers as parameters, if number 1 is less\n",
        "def swapNum(a, b):\n",
        "      if(a < b):\n",
        "           return b, a\n",
        "      else:\n",
        "           return a, b\n",
        "n1 = int(input(\"Enter First Number: \"))\n",
        "n2 = int(input ( \"Enter Second Number: \"))\n",
        "print(\"Returned values from function : \")\n",
        "n1, n2 = swapNum(n1, n2)\n",
        "print(\"First Number: \", n1, \"Second Number: \", n2)"
      ],
      "metadata": {
        "colab": {
          "base_uri": "https://localhost:8080/"
        },
        "id": "K2M232RNvwpu",
        "outputId": "ffca148c-1a95-4091-cc1f-e4aaf55fbef1"
      },
      "execution_count": 64,
      "outputs": [
        {
          "output_type": "stream",
          "name": "stdout",
          "text": [
            "Enter First Number: 4\n",
            "Enter Second Number: 6\n",
            "Returned values from function : \n",
            "First Number:  6 Second Number:  4\n"
          ]
        }
      ]
    },
    {
      "cell_type": "code",
      "source": [],
      "metadata": {
        "id": "lDHusihh3iyy"
      },
      "execution_count": null,
      "outputs": []
    }
  ]
}